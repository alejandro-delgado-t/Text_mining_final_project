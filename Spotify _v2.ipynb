{
  "cells": [
    {
      "cell_type": "markdown",
      "metadata": {
        "id": "y8vVxs7Asz1S"
      },
      "source": [
        "# **Spotify Scraping**\n",
        "<img src=\"https://www.liderlogo.es/wp-content/uploads/2022/12/pasted-image-0-4-1024x576.png\" alt=\"Texto alternativo\" width=\"180\" height=\"100\">\n",
        "\n"
      ]
    },
    {
      "cell_type": "code",
      "execution_count": 60,
      "metadata": {},
      "outputs": [],
      "source": [
        "import sys\n",
        "import spotipy\n",
        "import spotipy.util as util\n",
        "import requests\n",
        "from bs4 import BeautifulSoup\n",
        "from unidecode import unidecode\n",
        "from joblib import Parallel, delayed\n",
        "import re\n",
        "import pandas as pd\n",
        "import time\n",
        "from tabulate import tabulate\n",
        "from tqdm import tqdm\n",
        "import random"
      ]
    },
    {
      "cell_type": "markdown",
      "metadata": {},
      "source": [
        "## Scrapping code"
      ]
    },
    {
      "cell_type": "code",
      "execution_count": 61,
      "metadata": {},
      "outputs": [],
      "source": [
        "# Fake headers\n",
        "USER_AGENTS = [\n",
        "    'Mozilla/5.0 (Windows NT 10.0; Win64; x64) AppleWebKit/537.36 (KHTML, like Gecko) Chrome/122.0.0.0 Safari/537.36',\n",
        "    'Mozilla/5.0 (Macintosh; Intel Mac OS X 10_15_7) AppleWebKit/537.36 (KHTML, like Gecko) Chrome/121.0.0.0 Safari/537.36',\n",
        "    'Mozilla/5.0 (X11; Linux x86_64) AppleWebKit/537.36 (KHTML, like Gecko) Chrome/120.0.0.0 Safari/537.36',\n",
        "]\n",
        "\n",
        "def get_random_headers():\n",
        "    return {\n",
        "        'User-Agent': random.choice(USER_AGENTS)\n",
        "    }\n",
        "\n",
        "def safe_request(url, retries=3, timeout=10):\n",
        "    for attempt in range(retries):\n",
        "        try:\n",
        "            headers = get_random_headers()\n",
        "            response = requests.get(url, headers=headers, timeout=timeout)\n",
        "            if response.status_code == 200:\n",
        "                return response\n",
        "            elif response.status_code == 429:  # Rate limited\n",
        "                wait_time = random.uniform(10, 20)\n",
        "                print(f\"Rate limit hit. Sleeping for {wait_time:.2f} seconds...\")\n",
        "                time.sleep(wait_time)\n",
        "        except requests.RequestException as e:\n",
        "            print(f\"Request error: {e}. Retrying...\")\n",
        "            time.sleep(random.uniform(2, 4))\n",
        "    print(f\"Failed to retrieve URL after {retries} attempts: {url}\")\n",
        "    return None\n",
        "\n",
        "def format_genius_url(artists, song_name):\n",
        "    artist_clean = unidecode(artists).lower().strip()\n",
        "    artist_clean = artist_clean.replace('&', 'and')\n",
        "    artist_clean = artist_clean.replace(\".\", \"\")\n",
        "    artist_clean = artist_clean.replace(\"'\", \"\")\n",
        "    artist_clean = artist_clean.split('/')[0].strip()\n",
        "    artist_clean = re.sub(r\"\\s*(featuring|ft\\.)\\s.*\", \"\", artist_clean)\n",
        "    artist_clean = re.sub(r\"[^a-zA-Z0-9\\s-]\", \"\", artist_clean)\n",
        "\n",
        "    song_clean = unidecode(song_name.lower().strip())    \n",
        "    song_clean = song_clean.replace(\"&\", \"and\") \n",
        "    song_clean = song_clean.replace(\"'\", \"\")\n",
        "    song_clean = song_clean.split(\" / \")[0].strip() \n",
        "    song_clean = song_clean.replace(\"/\", \" \")\n",
        "    song_clean = re.sub(r\"\\s*\\((feat\\.[^\\)]+|Live|Remix|Version)[^\\)]+\\)\\s*\", \"\", song_clean)\n",
        "    song_clean = re.sub(r\"\\s*\\(\\s*([^\\)]+)\\s*\\)\", r\" \\1\", song_clean)\n",
        "    song_clean = re.sub(r\"[^a-zA-Z0-9\\s-]\", \"\", song_clean)\n",
        "\n",
        "    artist_clean = re.sub(r\"\\s+\", \"-\", artist_clean)\n",
        "    song_clean = re.sub(r\"\\s+\", \"-\", song_clean)\n",
        "\n",
        "    link = f'https://genius.com/{artist_clean}-{song_clean}-lyrics'\n",
        "    link_clean = re.sub(r\"-{2,}\", \"-\", link)\n",
        "    return link_clean\n",
        "\n",
        "def get_song_lyrics_and_info(artist, song_name):\n",
        "    song_url = format_genius_url(artist, song_name)\n",
        "    print(f'\\nFetching: {song_url}')\n",
        "\n",
        "    # Add random delay before each request\n",
        "    time.sleep(random.uniform(2, 5))\n",
        "\n",
        "    response = safe_request(song_url)\n",
        "    if not response:\n",
        "        return None, None, None, None, None, None\n",
        "\n",
        "    soup = BeautifulSoup(response.content, 'lxml')\n",
        "\n",
        "    # Extract lyrics\n",
        "    lyrics = None\n",
        "    for tag in soup.select('div[data-lyrics-container=\"true\"], div[class^=\"Lyrics__Container\"], .Lyrics__Root'):\n",
        "        for i in tag.select('i'):\n",
        "            i.unwrap()\n",
        "        tag.smooth()\n",
        "        lyrics = tag.get_text(strip=True, separator='\\n')\n",
        "        if lyrics:\n",
        "            break\n",
        "\n",
        "    # Extract credits\n",
        "    producers = writers = label = released_on = tags = None\n",
        "\n",
        "    credits_tag = soup.find('div', {'class': 'SongInfo-sc-4162678b-1 gEkcUA'})\n",
        "    if credits_tag:\n",
        "        producers_tag = credits_tag.find_next('div', {'class': re.compile(r'SongInfo-sc-4162678b-4\\s+\\w+')}, string=re.compile(r'Producer', re.IGNORECASE))\n",
        "        if producers_tag:\n",
        "            producers = list(set([span.get_text(strip=True) for span in producers_tag.find_next_sibling().find_all('span')]))\n",
        "\n",
        "        writers_tag = credits_tag.find_next('div', {'class': re.compile(r'SongInfo-sc-4162678b-4\\s+\\w+')}, text=re.compile(r'Writer', re.IGNORECASE))\n",
        "        if writers_tag:\n",
        "            writers = list(set([span.get_text(strip=True) for span in writers_tag.find_next_sibling().find_all('span')]))\n",
        "\n",
        "        label_tag = credits_tag.find_next('div', {'class': re.compile(r'SongInfo-sc-4162678b-4\\s+\\w+')}, text=re.compile(r'Label', re.IGNORECASE))\n",
        "        if label_tag:\n",
        "            label = list(set([span.get_text(strip=True) for span in label_tag.find_next_sibling().find_all('span')]))\n",
        "\n",
        "        released_on_tag = credits_tag.find_next('div', {'class': re.compile(r'SongInfo-sc-4162678b-4\\s+\\w+')}, text=re.compile(r'Released\\s+(in|on)', re.IGNORECASE))\n",
        "        if released_on_tag:\n",
        "            released_on = released_on_tag.find_next_sibling('div').get_text(strip=True)\n",
        "\n",
        "    tags_tag = soup.find('div', {'class': 'SongTags-sc-b55131f0-0 eUsmSA'}, string=re.compile(r'Tags', re.IGNORECASE))\n",
        "    if tags_tag:\n",
        "        tags = list(set([a.get_text(strip=True) for a in tags_tag.find_next_sibling('div').find_all('a')]))\n",
        "\n",
        "    return lyrics, producers, writers, label, released_on, tags\n",
        "\n",
        "def get_lyrics_and_info_parallel(row):\n",
        "    lyrics, producers, writers, label, released_on, tags = get_song_lyrics_and_info(row['artist'], row['title'])\n",
        "    song_url = format_genius_url(row['artist'], row['title'])\n",
        "    return pd.Series([lyrics, producers, writers, label, released_on, tags, song_url])\n"
      ]
    },
    {
      "cell_type": "code",
      "execution_count": null,
      "metadata": {},
      "outputs": [],
      "source": [
        "# df = pd.read_csv('billboard_hot_100_1981_2022.csv')\n",
        "\n",
        "# results = []\n",
        "# for _, row in tqdm(df.iterrows(), total=len(df)):\n",
        "#     results.append(get_lyrics_and_info_parallel(row))\n",
        "#     time.sleep(random.uniform(3, 6))  # throttle between songs\n",
        "\n",
        "# df[['lyrics', 'producers', 'writers', 'label', 'released_on', 'tags', 'song_url']] = pd.DataFrame(results, index=df.index)\n"
      ]
    },
    {
      "cell_type": "code",
      "execution_count": 63,
      "metadata": {},
      "outputs": [
        {
          "name": "stderr",
          "output_type": "stream",
          "text": [
            "100%|██████████| 4182/4182 [2:15:33<00:00,  1.94s/it]  \n"
          ]
        }
      ],
      "source": [
        "# Adjust this for safety vs. speed\n",
        "N_JOBS = 6  # safer than 10\n",
        "MIN_DELAY = 4   # seconds\n",
        "MAX_DELAY = 9   # seconds\n",
        "\n",
        "def get_lyrics_and_info_parallel_balanced(row):\n",
        "    # Add randomized delay per worker\n",
        "    time.sleep(random.uniform(MIN_DELAY, MAX_DELAY))\n",
        "    return get_lyrics_and_info_parallel(row)\n",
        "\n",
        "# Load your dataset\n",
        "df = pd.read_csv('billboard_hot_100_1981_2022.csv')\n",
        "\n",
        "# Apply in parallel with safer throttling\n",
        "results = Parallel(n_jobs=N_JOBS)(\n",
        "    delayed(get_lyrics_and_info_parallel_balanced)(row) for _, row in tqdm(df.iterrows(), total=len(df))\n",
        ")\n",
        "\n",
        "# Assign results back to the dataframe\n",
        "df[['lyrics', \n",
        "    'producers', \n",
        "    'writers', \n",
        "    'label', \n",
        "    'released_on', \n",
        "    'tags', \n",
        "    'song_url']] = pd.DataFrame(results, index=df.index)"
      ]
    },
    {
      "cell_type": "code",
      "execution_count": 64,
      "metadata": {},
      "outputs": [
        {
          "name": "stdout",
          "output_type": "stream",
          "text": [
            "label          39.526542\n",
            "released_on     4.375897\n",
            "producers       4.304161\n",
            "writers         4.232425\n",
            "lyrics          3.586801\n",
            "tags            3.443329\n",
            "year            0.000000\n",
            "ranking         0.000000\n",
            "title           0.000000\n",
            "artist          0.000000\n",
            "song_url        0.000000\n",
            "dtype: float64\n"
          ]
        }
      ],
      "source": [
        "# Percentage of missing values per column\n",
        "missing_percent = df.isnull().mean() * 100\n",
        "\n",
        "# Display the result sorted from highest to lowest\n",
        "print(missing_percent.sort_values(ascending=False))\n"
      ]
    },
    {
      "cell_type": "code",
      "execution_count": 66,
      "metadata": {},
      "outputs": [],
      "source": [
        "df.to_csv('billboard_hot_100_1981_2022_with_lyrics.csv', index=False)"
      ]
    }
  ],
  "metadata": {
    "colab": {
      "provenance": []
    },
    "kernelspec": {
      "display_name": "myenv",
      "language": "python",
      "name": "python3"
    },
    "language_info": {
      "codemirror_mode": {
        "name": "ipython",
        "version": 3
      },
      "file_extension": ".py",
      "mimetype": "text/x-python",
      "name": "python",
      "nbconvert_exporter": "python",
      "pygments_lexer": "ipython3",
      "version": "3.9.20"
    }
  },
  "nbformat": 4,
  "nbformat_minor": 0
}
